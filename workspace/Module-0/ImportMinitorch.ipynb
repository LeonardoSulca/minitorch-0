{
 "cells": [
  {
   "cell_type": "code",
   "execution_count": 1,
   "metadata": {},
   "outputs": [],
   "source": [
    "import minitorch"
   ]
  },
  {
   "cell_type": "markdown",
   "metadata": {},
   "source": [
    "![1](1.png)\n",
    "\n",
    "Una vez creado en entorno venv, dentro del mismo con \"pip install notebook\" y  \"jupyter notebook\" se ejecuta jupyter junto al entorno\n",
    "\n",
    "![2](2.png)"
   ]
  },
  {
   "cell_type": "markdown",
   "metadata": {},
   "source": [
    "# ML Primer\n",
    "\n",
    "Orientada principalmente a la clasificación binaria supervisada con redes neuronales y entender como una red neuronal clasifica grupos de puntos.\n",
    "Datasets\n",
    "Los datasets que usa esta guía son un conjunto de puntos con coordenadas x1 x2 y una característica y que toma valor de aspa o circulo.\n",
    "\n",
    "![ml-1](ml-1.png)\n",
    "\n",
    "También se considerarán datasets de números escritos a mano\n",
    "\n",
    "![ml-2](ml-2.png)\n",
    "\n",
    "## Modelo\n",
    "\n",
    "Para el machine learning se utiliza un modelo donde se ajustará el dataset, este modelo asigna una característica a puntos del dataset dentro de una región determinada por el modelo\n",
    "La idea del modelo es que pueda dividir los diferentes grupos (aspa o circulo) con la región que esta determina\n",
    "\t\n",
    "![ml-3](ml-3.png)\n",
    "    \n",
    "## Parametros\n",
    "\n",
    "Sirven como perillas para ajustar el modelo elegido a la data, como rotar la línea de división o cambiar el punto de corte de la misma (para un modelo lineal). Estos parámetros son los que definen la decisión del modelo y toda su conducta\n",
    "\n",
    "## Perdida\n",
    "\n",
    "Un buen modelo es aquel que tiene una función definida como “función loss” con su valor más pequeño posible\n",
    "Un punto se considerará mejor o peor clasificado en función de si esta en la región correcta y que tan lejos está de la línea divisoria\n",
    "La función loss estará determinada por estas distancias y su dirección (positiva si esta en la región correcta y negativa si esta en la región incorrecta)\n",
    "El total de la función loss para un modelo es producida por la función loss de cada punto del dataset\n",
    "\n",
    "## Ajustando Parametros\n",
    "\n",
    "Usando Gradient Descent, se calcula el error de un modelo con un grupo de parámetros, se verifica que tanto mejora el error cambiando los parámetros, y se toma el conjunto local de parámetros que otorgue el menor error\n",
    "\n",
    "![ml-4](ml-4.png)\n"
   ]
  },
  {
   "cell_type": "code",
   "execution_count": 4,
   "metadata": {},
   "outputs": [
    {
     "name": "stderr",
     "output_type": "stream",
     "text": [
      "Setting up a new session...\n"
     ]
    }
   ],
   "source": [
    "from project.datasets import Simple, Split, Xor\n",
    "N = 100\n",
    "Simple(N, vis=True).graph(\"initial\")"
   ]
  },
  {
   "cell_type": "code",
   "execution_count": null,
   "metadata": {},
   "outputs": [],
   "source": []
  }
 ],
 "metadata": {
  "kernelspec": {
   "display_name": "Python 3",
   "language": "python",
   "name": "python3"
  },
  "language_info": {
   "codemirror_mode": {
    "name": "ipython",
    "version": 3
   },
   "file_extension": ".py",
   "mimetype": "text/x-python",
   "name": "python",
   "nbconvert_exporter": "python",
   "pygments_lexer": "ipython3",
   "version": "3.8.5"
  }
 },
 "nbformat": 4,
 "nbformat_minor": 5
}
