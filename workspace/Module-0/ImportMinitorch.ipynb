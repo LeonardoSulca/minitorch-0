{
 "cells": [
  {
   "cell_type": "code",
   "execution_count": 1,
   "id": "f0ceb92c",
   "metadata": {},
   "outputs": [],
   "source": [
    "import minitorch"
   ]
  },
  {
   "cell_type": "markdown",
   "id": "e33c2735",
   "metadata": {},
   "source": [
    "![1](1.png)\n",
    "\n",
    "Una vez creado en entorno venv, dentro del mismo con \"pip install notebook\" y  \"jupyter notebook\" se ejecuta jupyter junto al entorno\n",
    "\n",
    "![2](2.png)"
   ]
  },
  {
   "cell_type": "code",
   "execution_count": 2,
   "id": "5680e277",
   "metadata": {},
   "outputs": [],
   "source": []
  }
 ],
 "metadata": {
  "kernelspec": {
   "display_name": "Python 3",
   "language": "python",
   "name": "python3"
  },
  "language_info": {
   "codemirror_mode": {
    "name": "ipython",
    "version": 3
   },
   "file_extension": ".py",
   "mimetype": "text/x-python",
   "name": "python",
   "nbconvert_exporter": "python",
   "pygments_lexer": "ipython3",
   "version": "3.9.4"
  }
 },
 "nbformat": 4,
 "nbformat_minor": 5
}
